{
  "cells": [
    {
      "cell_type": "markdown",
      "metadata": {
        "id": "view-in-github",
        "colab_type": "text"
      },
      "source": [
        "<a href=\"https://colab.research.google.com/github/dkc76/exercise_jupyter/blob/main/notebook_exercises.ipynb\" target=\"_parent\"><img src=\"https://colab.research.google.com/assets/colab-badge.svg\" alt=\"Open In Colab\"/></a>"
      ]
    },
    {
      "cell_type": "markdown",
      "metadata": {
        "id": "p_zDvb_BaQRi"
      },
      "source": [
        "## Jupyter Notebook example\n",
        "\n",
        "Follow instructions and fill in where required. Do not modify anything else than what you are asked to."
      ]
    },
    {
      "cell_type": "markdown",
      "metadata": {
        "id": "EKZrUwcjaQRp"
      },
      "source": [
        "## Table of Contents\n",
        "\n",
        "* [1. Shell commands and line magics](#shellmagic)\n",
        "* [2. Latex for formulas](#latex)\n",
        "* [3. Interactive widget](#interactive)\n",
        "* [4. Git](#git)"
      ]
    },
    {
      "cell_type": "markdown",
      "metadata": {
        "id": "Jgg-L2FEaQRq"
      },
      "source": [
        "### 1. Shell commands and line magics <a class=\"anchor\" id=\"shellmagic\"></a>\n",
        "\n",
        "1.1. In code cell below, run a shell command to print your working directory.\n",
        "\n",
        "1.2. Using a line magic create an alias called \"hello\" for command \"echo \"¡Hola mundo!\"\" and test it. Your answer should contain one line for creating alias and one line for using the alias."
      ]
    },
    {
      "cell_type": "code",
      "execution_count": 6,
      "metadata": {
        "colab": {
          "base_uri": "https://localhost:8080/"
        },
        "id": "N2oZoL7FaQRr",
        "outputId": "d5f47ae1-c644-4a4f-cc23-c295281b0bdd"
      },
      "outputs": [
        {
          "output_type": "stream",
          "name": "stdout",
          "text": [
            "/content\n",
            "¡Hola mundo!\n"
          ]
        }
      ],
      "source": [
        "# Exercise 1.1. here:\n",
        "import os\n",
        "p = os.getcwd()\n",
        "print(p)\n",
        "\n",
        "\n",
        "# Exercise 1.2. here:\n",
        "%alias hello echo \"¡Hola mundo!\"\n",
        "%hello\n",
        "\n"
      ]
    },
    {
      "cell_type": "markdown",
      "metadata": {
        "id": "m2XoWvrCaQRs"
      },
      "source": [
        "### 2. Markdown text <a class=\"anchor\" id=\"latex\"></a>\n",
        "\n",
        "Different kind of text can be added into markdown cells. [Here](https://jupyter-notebook.readthedocs.io/en/stable/examples/Notebook/Working%20With%20Markdown%20Cells.html) is a good source into Markdown basics.\n",
        "\n",
        "2.1. In markdown cell below display Pythagorean theorem using LaTex syntax.\n",
        "\n",
        "2.2. Display a Python function called \"hello\" that returns \"Hallo Welt!\". Use Github flavored markdown. (You may use some other programming language here if you wish)"
      ]
    },
    {
      "cell_type": "markdown",
      "metadata": {
        "id": "P_0EVr4GaQRs"
      },
      "source": [
        "2.1. here:\n",
        "$a^2 + b^2 = c^2$\n",
        "\n",
        "2.2. here:\n",
        "'''\n",
        "def hello():\n",
        "   print(\"Hello Welt!\")\n",
        "'''\n"
      ]
    },
    {
      "cell_type": "markdown",
      "metadata": {
        "id": "d-26wb6daQRt"
      },
      "source": [
        "### 3. Interactive widget <a class=\"anchor\" id=\"interactive\"></a>\n",
        "\n",
        "In the program below we want to investigate a set of movie reviews and see what are the most frequent words there. We are not interested in seeing punctuation marks or the clearly most common words referred as stopwords.\n",
        "\n",
        "3.1. Run the code and investigate the output. In the marked codeline there is something wrong that causes wrong output. Can you figure out what to add to display correct words?\n",
        "\n",
        "3.2. Use the @interact decorator at the end of the program to range displaying 5 to 10 most frequent words. You can see an example of the usage of the decorator [here](https://coderefinery.github.io/jupyter/examples/#widgets-for-interactive-data-fitting)"
      ]
    },
    {
      "cell_type": "code",
      "execution_count": 23,
      "metadata": {
        "id": "kOPyRzZMaQRu"
      },
      "outputs": [],
      "source": [
        "# Notice!:\n",
        "# For ModuleNotFoundError: No module named 'nltk' you need to pip install nltk to your environment\n",
        "# For ModuleNotFoundError: No module named 'ipywidgets' you need to pip install ipywidgets to your environment\n",
        "# To install nltk data sets movie_reviews and stopwords you need to install the data sets with nltk.download.\n",
        "# See examples: https://www.nltk.org/data.html\n",
        "# Do that here:\n",
        "import nltk\n"
      ]
    },
    {
      "cell_type": "code",
      "execution_count": 28,
      "metadata": {
        "colab": {
          "base_uri": "https://localhost:8080/",
          "height": 1000,
          "referenced_widgets": [
            "a306751f75bd4471a7ff1d6d30e1e921",
            "2722400d22654fdfbd121816f51189a7",
            "61b3e7106638456fb3999fae90e18e9c",
            "81d5eeba68cd42538a0e5a4e88633762",
            "2b43e4a7a8bc431aafb09716ee5c8f65",
            "8ba8b8f54f7844cfa92310c77a16d140",
            "54331ce12cb44188b9a73d8d8eeaa172"
          ]
        },
        "id": "W7rhQbIKaQRu",
        "outputId": "0bb4fa12-4d4c-4ac6-b271-34a40bd4a41c"
      },
      "outputs": [
        {
          "output_type": "stream",
          "name": "stderr",
          "text": [
            "[nltk_data] Downloading package stopwords to /root/nltk_data...\n",
            "[nltk_data]   Package stopwords is already up-to-date!\n",
            "[nltk_data] Downloading package movie_reviews to /root/nltk_data...\n",
            "[nltk_data]   Package movie_reviews is already up-to-date!\n"
          ]
        },
        {
          "output_type": "display_data",
          "data": {
            "text/plain": [
              "<Figure size 640x480 with 1 Axes>"
            ],
            "image/png": "[encoded data removed]"
          },
          "metadata": {}
        },
        {
          "output_type": "display_data",
          "data": {
            "text/plain": [
              "interactive(children=(IntSlider(value=7, description='x', max=10, min=5), Output()), _dom_classes=('widget-int…"
            ],
            "application/vnd.jupyter.widget-view+json": {
              "version_major": 2,
              "version_minor": 0,
              "model_id": "a306751f75bd4471a7ff1d6d30e1e921"
            }
          },
          "metadata": {}
        }
      ],
      "source": [
        "import nltk\n",
        "from nltk import FreqDist\n",
        "from nltk import RegexpTokenizer\n",
        "from nltk.corpus import movie_reviews\n",
        "from nltk.corpus import stopwords\n",
        "from ipywidgets import interact\n",
        "\n",
        "tokenizer = RegexpTokenizer(r\"\\w+\")\n",
        "word_tokens = tokenizer.tokenize(movie_reviews.raw())\n",
        "\n",
        "nltk.download('stopwords')\n",
        "\n",
        "stop_words = set(stopwords.words('english'))\n",
        "\n",
        "# Exercise 3.1. below:\n",
        "\n",
        "nltk.download('movie_reviews')\n",
        "filtered_words = [w for w in word_tokens if w in stop_words]\n",
        "\n",
        "fd = FreqDist(filtered_words)\n",
        "fd.plot(5)\n",
        "\n",
        "# Exercise 3.2. here:\n",
        "@interact\n",
        "def f(x=(5,10)):\n",
        "  fd.plot(x)\n",
        "\n"
      ]
    },
    {
      "cell_type": "markdown",
      "metadata": {
        "id": "K7M5goy5aQRv"
      },
      "source": [
        "### 4. Git <a class=\"anchor\" id=\"git\"></a>\n",
        "\n",
        "Follow [these](https://coderefinery.github.io/jupyter/version-control/) instructions to save this notebook and create a repository for it. After you have done this, paste the repository url in the cell below. Please make your repository public on Github so that your reviewer is able to assess this exercise."
      ]
    },
    {
      "cell_type": "code",
      "execution_count": null,
      "metadata": {
        "id": "cP1HlqxFaQRv"
      },
      "outputs": [],
      "source": [
        "# Paste your repository url here:\n",
        "https://github.com/dkc76/exercise_jupyter.git\n",
        "#"
      ]
    }
  ],
  "metadata": {
    "kernelspec": {
      "display_name": "Python 3",
      "language": "python",
      "name": "python3"
    },
    "language_info": {
      "codemirror_mode": {
        "name": "ipython",
        "version": 3
      },
      "file_extension": ".py",
      "mimetype": "text/x-python",
      "name": "python",
      "nbconvert_exporter": "python",
      "pygments_lexer": "ipython3",
      "version": "3.8.10"
    },
    "colab": {
      "provenance": [],
      "include_colab_link": true
    },
    "widgets": {
      "application/vnd.jupyter.widget-state+json": {
        "a306751f75bd4471a7ff1d6d30e1e921": {
          "model_module": "@jupyter-widgets/controls",
          "model_name": "VBoxModel",
          "model_module_version": "1.5.0",
          "state": {
            "_dom_classes": [
              "widget-interact"
            ],
            "_model_module": "@jupyter-widgets/controls",
            "_model_module_version": "1.5.0",
            "_model_name": "VBoxModel",
            "_view_count": null,
            "_view_module": "@jupyter-widgets/controls",
            "_view_module_version": "1.5.0",
            "_view_name": "VBoxView",
            "box_style": "",
            "children": [
              "IPY_MODEL_2722400d22654fdfbd121816f51189a7",
              "IPY_MODEL_61b3e7106638456fb3999fae90e18e9c"
            ],
            "layout": "IPY_MODEL_81d5eeba68cd42538a0e5a4e88633762"
          }
        },
        "2722400d22654fdfbd121816f51189a7": {
          "model_module": "@jupyter-widgets/controls",
          "model_name": "IntSliderModel",
          "model_module_version": "1.5.0",
          "state": {
            "_dom_classes": [],
            "_model_module": "@jupyter-widgets/controls",
            "_model_module_version": "1.5.0",
            "_model_name": "IntSliderModel",
            "_view_count": null,
            "_view_module": "@jupyter-widgets/controls",
            "_view_module_version": "1.5.0",
            "_view_name": "IntSliderView",
            "continuous_update": true,
            "description": "x",
            "description_tooltip": null,
            "disabled": false,
            "layout": "IPY_MODEL_2b43e4a7a8bc431aafb09716ee5c8f65",
            "max": 10,
            "min": 5,
            "orientation": "horizontal",
            "readout": true,
            "readout_format": "d",
            "step": 1,
            "style": "IPY_MODEL_8ba8b8f54f7844cfa92310c77a16d140",
            "value": 10
          }
        },
        "61b3e7106638456fb3999fae90e18e9c": {
          "model_module": "@jupyter-widgets/output",
          "model_name": "OutputModel",
          "model_module_version": "1.0.0",
          "state": {
            "_dom_classes": [],
            "_model_module": "@jupyter-widgets/output",
            "_model_module_version": "1.0.0",
            "_model_name": "OutputModel",
            "_view_count": null,
            "_view_module": "@jupyter-widgets/output",
            "_view_module_version": "1.0.0",
            "_view_name": "OutputView",
            "layout": "IPY_MODEL_54331ce12cb44188b9a73d8d8eeaa172",
            "msg_id": "",
            "outputs": [
              {
                "output_type": "display_data",
                "data": {
                  "text/plain": "<Figure size 640x480 with 1 Axes>",
                  "image/png": "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\n"
                },
                "metadata": {}
              }
            ]
          }
        },
        "81d5eeba68cd42538a0e5a4e88633762": {
          "model_module": "@jupyter-widgets/base",
          "model_name": "LayoutModel",
          "model_module_version": "1.2.0",
          "state": {
            "_model_module": "@jupyter-widgets/base",
            "_model_module_version": "1.2.0",
            "_model_name": "LayoutModel",
            "_view_count": null,
            "_view_module": "@jupyter-widgets/base",
            "_view_module_version": "1.2.0",
            "_view_name": "LayoutView",
            "align_content": null,
            "align_items": null,
            "align_self": null,
            "border": null,
            "bottom": null,
            "display": null,
            "flex": null,
            "flex_flow": null,
            "grid_area": null,
            "grid_auto_columns": null,
            "grid_auto_flow": null,
            "grid_auto_rows": null,
            "grid_column": null,
            "grid_gap": null,
            "grid_row": null,
            "grid_template_areas": null,
            "grid_template_columns": null,
            "grid_template_rows": null,
            "height": null,
            "justify_content": null,
            "justify_items": null,
            "left": null,
            "margin": null,
            "max_height": null,
            "max_width": null,
            "min_height": null,
            "min_width": null,
            "object_fit": null,
            "object_position": null,
            "order": null,
            "overflow": null,
            "overflow_x": null,
            "overflow_y": null,
            "padding": null,
            "right": null,
            "top": null,
            "visibility": null,
            "width": null
          }
        },
        "2b43e4a7a8bc431aafb09716ee5c8f65": {
          "model_module": "@jupyter-widgets/base",
          "model_name": "LayoutModel",
          "model_module_version": "1.2.0",
          "state": {
            "_model_module": "@jupyter-widgets/base",
            "_model_module_version": "1.2.0",
            "_model_name": "LayoutModel",
            "_view_count": null,
            "_view_module": "@jupyter-widgets/base",
            "_view_module_version": "1.2.0",
            "_view_name": "LayoutView",
            "align_content": null,
            "align_items": null,
            "align_self": null,
            "border": null,
            "bottom": null,
            "display": null,
            "flex": null,
            "flex_flow": null,
            "grid_area": null,
            "grid_auto_columns": null,
            "grid_auto_flow": null,
            "grid_auto_rows": null,
            "grid_column": null,
            "grid_gap": null,
            "grid_row": null,
            "grid_template_areas": null,
            "grid_template_columns": null,
            "grid_template_rows": null,
            "height": null,
            "justify_content": null,
            "justify_items": null,
            "left": null,
            "margin": null,
            "max_height": null,
            "max_width": null,
            "min_height": null,
            "min_width": null,
            "object_fit": null,
            "object_position": null,
            "order": null,
            "overflow": null,
            "overflow_x": null,
            "overflow_y": null,
            "padding": null,
            "right": null,
            "top": null,
            "visibility": null,
            "width": null
          }
        },
        "8ba8b8f54f7844cfa92310c77a16d140": {
          "model_module": "@jupyter-widgets/controls",
          "model_name": "SliderStyleModel",
          "model_module_version": "1.5.0",
          "state": {
            "_model_module": "@jupyter-widgets/controls",
            "_model_module_version": "1.5.0",
            "_model_name": "SliderStyleModel",
            "_view_count": null,
            "_view_module": "@jupyter-widgets/base",
            "_view_module_version": "1.2.0",
            "_view_name": "StyleView",
            "description_width": "",
            "handle_color": null
          }
        },
        "54331ce12cb44188b9a73d8d8eeaa172": {
          "model_module": "@jupyter-widgets/base",
          "model_name": "LayoutModel",
          "model_module_version": "1.2.0",
          "state": {
            "_model_module": "@jupyter-widgets/base",
            "_model_module_version": "1.2.0",
            "_model_name": "LayoutModel",
            "_view_count": null,
            "_view_module": "@jupyter-widgets/base",
            "_view_module_version": "1.2.0",
            "_view_name": "LayoutView",
            "align_content": null,
            "align_items": null,
            "align_self": null,
            "border": null,
            "bottom": null,
            "display": null,
            "flex": null,
            "flex_flow": null,
            "grid_area": null,
            "grid_auto_columns": null,
            "grid_auto_flow": null,
            "grid_auto_rows": null,
            "grid_column": null,
            "grid_gap": null,
            "grid_row": null,
            "grid_template_areas": null,
            "grid_template_columns": null,
            "grid_template_rows": null,
            "height": null,
            "justify_content": null,
            "justify_items": null,
            "left": null,
            "margin": null,
            "max_height": null,
            "max_width": null,
            "min_height": null,
            "min_width": null,
            "object_fit": null,
            "object_position": null,
            "order": null,
            "overflow": null,
            "overflow_x": null,
            "overflow_y": null,
            "padding": null,
            "right": null,
            "top": null,
            "visibility": null,
            "width": null
          }
        }
      }
    }
  },
  "nbformat": 4,
  "nbformat_minor": 0
}